{
 "cells": [
  {
   "cell_type": "code",
   "execution_count": 9,
   "id": "ca2a364e",
   "metadata": {},
   "outputs": [],
   "source": [
    "import plotly.express as px\n",
    "import plotly.graph_objects as go\n",
    "import plotly.io as pio\n",
    "import polars as pl\n",
    "\n",
    "from wtg_power_prediction.dataset import load_training_dataset, load_turbine_metadata\n",
    "\n",
    "pio.templates.default = \"plotly_dark\""
   ]
  },
  {
   "cell_type": "code",
   "execution_count": 10,
   "id": "f46602ad",
   "metadata": {},
   "outputs": [],
   "source": [
    "def plot_turbine_map(*, target: int = 1) -> go.Figure:\n",
    "    turbines_in_competition = [1, 2, 3, 4, 5, 7]\n",
    "    turbines_in_competition.remove(target)\n",
    "\n",
    "    df_turbine_metadata = (\n",
    "        load_turbine_metadata()\n",
    "        .with_columns(\n",
    "            pl.when(pl.col(\"Turbine Name\").eq(f\"T{target:02}\"))\n",
    "            .then(pl.lit(\"Target\"))\n",
    "            .when(pl.col(\"Turbine Name\").is_in([f\"T{t:02}\" for t in turbines_in_competition]))\n",
    "            .then(pl.lit(\"Reference\"))\n",
    "            .otherwise(pl.lit(\"Other\"))\n",
    "            .alias(\"Turbine Type\")\n",
    "        )\n",
    "        .collect()\n",
    "    )\n",
    "\n",
    "    turbine_map = px.scatter_map(\n",
    "        df_turbine_metadata,\n",
    "        lat=\"Latitude\",\n",
    "        lon=\"Longitude\",\n",
    "        hover_data={\n",
    "            \"Latitude\": False,\n",
    "            \"Longitude\": False,\n",
    "            \"Turbine Type\": False,\n",
    "            \"Turbine Name\": True,\n",
    "            \"Hub Height (m)\": True,\n",
    "            \"Rotor Diameter (m)\": True,\n",
    "        },\n",
    "        color=\"Turbine Type\",\n",
    "        zoom=12,\n",
    "    )\n",
    "    turbine_map.update_traces(marker={\"size\": 10})\n",
    "    turbine_map.update_layout(\n",
    "        width=600,\n",
    "        legend_title_text=None,\n",
    "        legend={\n",
    "            \"orientation\": \"h\",\n",
    "            \"yanchor\": \"bottom\",\n",
    "            \"y\": 1.02,\n",
    "            \"xanchor\": \"right\",\n",
    "            \"x\": 1,\n",
    "        },\n",
    "    )\n",
    "    return turbine_map"
   ]
  },
  {
   "cell_type": "code",
   "execution_count": 11,
   "id": "b6da664a",
   "metadata": {},
   "outputs": [],
   "source": [
    "def plot_wind_rose(*, height: int = 59) -> go.Figure:\n",
    "    interpolation_parameter = (height - 10) / (100 - 10)\n",
    "\n",
    "    df = (\n",
    "        load_training_dataset()\n",
    "        .select(\"ERA5_wind_speed_10m\", \"ERA5_wind_speed_100m\", \"ERA5_wind_direction_10m\", \"ERA5_wind_direction_100m\")\n",
    "        .with_columns(\n",
    "            pl.col(\"ERA5_wind_speed_10m\")\n",
    "            .add(pl.col(\"ERA5_wind_speed_100m\").sub(pl.col(\"ERA5_wind_speed_10m\")).mul(interpolation_parameter))\n",
    "            .alias(f\"ERA5_wind_speed_{height}m\"),\n",
    "            pl.col(\"ERA5_wind_direction_10m\")\n",
    "            .add(\n",
    "                pl.col(\"ERA5_wind_direction_100m\")\n",
    "                .sub(pl.col(\"ERA5_wind_direction_10m\"))\n",
    "                .add(180)\n",
    "                .mod(360)\n",
    "                .sub(180)\n",
    "                .mul(interpolation_parameter)\n",
    "            )\n",
    "            .mod(360)\n",
    "            .alias(f\"ERA5_wind_direction_{height}m\"),\n",
    "        )\n",
    "        .with_columns(\n",
    "            pl.col(f\"ERA5_wind_direction_{height}m\")\n",
    "            .cut(\n",
    "                breaks=pl.linear_space(0, 337.5, 16, eager=True) + 11.25,\n",
    "                labels=[\n",
    "                    \"N\",\n",
    "                    \"NNE\",\n",
    "                    \"NE\",\n",
    "                    \"ENE\",\n",
    "                    \"E\",\n",
    "                    \"ESE\",\n",
    "                    \"SE\",\n",
    "                    \"SSE\",\n",
    "                    \"S\",\n",
    "                    \"SSW\",\n",
    "                    \"SW\",\n",
    "                    \"WSW\",\n",
    "                    \"W\",\n",
    "                    \"WNW\",\n",
    "                    \"NW\",\n",
    "                    \"NNW\",\n",
    "                    \"N\",\n",
    "                ],\n",
    "            )\n",
    "            .alias(\"Wind Direction\"),\n",
    "            pl.col(f\"ERA5_wind_speed_{height}m\")\n",
    "            .cut(\n",
    "                breaks=[2, 4, 6, 8, 10, 12, 14, 16],\n",
    "                labels=[\"0-2\", \"2-4\", \"4-6\", \"6-8\", \"8-10\", \"10-12\", \"12-14\", \"14-16\", \"16+\"],\n",
    "            )\n",
    "            .alias(\"Wind Speed (m/s)\"),\n",
    "        )\n",
    "        .collect()\n",
    "    )\n",
    "\n",
    "    total_count = len(df)\n",
    "\n",
    "    df = (\n",
    "        df.lazy()\n",
    "        .group_by([\"Wind Direction\", \"Wind Speed (m/s)\"])\n",
    "        .agg(pl.len().alias(\"Count\"))\n",
    "        .with_columns(\n",
    "            pl.col(\"Count\").truediv(total_count).mul(100).alias(\"Frequency\"),\n",
    "        )\n",
    "        .sort(\"Wind Direction\", \"Wind Speed (m/s)\")\n",
    "        .collect()\n",
    "    )\n",
    "\n",
    "    return px.bar_polar(\n",
    "        df,\n",
    "        r=\"Frequency\",\n",
    "        theta=\"Wind Direction\",\n",
    "        color=\"Wind Speed (m/s)\",\n",
    "        color_discrete_sequence=px.colors.sequential.Plasma_r,\n",
    "        width=600,\n",
    "    )"
   ]
  },
  {
   "cell_type": "code",
   "execution_count": 12,
   "id": "26340908",
   "metadata": {},
   "outputs": [
    {
     "data": {
      "application/vnd.plotly.v1+json": {
       "config": {
        "plotlyServerURL": "https://plot.ly"
       },
       "data": [
        {
         "customdata": [
          [
           57.49921441,
           -3.086742896,
           "Target",
           "T01",
           59,
           82
          ]
         ],
         "hovertemplate": "Turbine Name=%{customdata[3]}<br>Hub Height (m)=%{customdata[4]}<br>Rotor Diameter (m)=%{customdata[5]}<extra></extra>",
         "lat": {
          "bdata": "K1L+Qea/TEA=",
          "dtype": "f8"
         },
         "legendgroup": "Target",
         "lon": {
          "bdata": "t9drQqaxCMA=",
          "dtype": "f8"
         },
         "marker": {
          "color": "#636efa",
          "size": 10
         },
         "mode": "markers",
         "name": "Target",
         "showlegend": true,
         "subplot": "map",
         "type": "scattermap"
        },
        {
         "customdata": [
          [
           57.49626574,
           -3.082817716,
           "Reference",
           "T02",
           59,
           82
          ],
          [
           57.50206973,
           -3.088980479,
           "Reference",
           "T03",
           59,
           82
          ],
          [
           57.50196736,
           -3.082085466,
           "Reference",
           "T04",
           59,
           82
          ],
          [
           57.49891107,
           -3.07812382,
           "Reference",
           "T05",
           59,
           82
          ],
          [
           57.50513302,
           -3.085850762,
           "Reference",
           "T07",
           59,
           82
          ]
         ],
         "hovertemplate": "Turbine Name=%{customdata[3]}<br>Hub Height (m)=%{customdata[4]}<br>Rotor Diameter (m)=%{customdata[5]}<extra></extra>",
         "lat": {
          "bdata": "brbBooW/TECuVCfSQ8BMQANuaXdAwExAlaFkUdy/TEDOg+QyqMBMQA==",
          "dtype": "f8"
         },
         "legendgroup": "Reference",
         "lon": {
          "bdata": "zv6tVZypCMCgTLplO7YIwEuTv2wcqAjAPIKfYf+fCMBxAzmG0q8IwA==",
          "dtype": "f8"
         },
         "marker": {
          "color": "#EF553B",
          "size": 10
         },
         "mode": "markers",
         "name": "Reference",
         "showlegend": true,
         "subplot": "map",
         "type": "scattermap"
        },
        {
         "customdata": [
          [
           57.50024464,
           -3.071321578,
           "Other",
           "T06",
           59,
           82
          ],
          [
           57.50465629,
           -3.077542275,
           "Other",
           "T08",
           59,
           82
          ],
          [
           57.50827835,
           -3.08257274,
           "Other",
           "T09",
           59,
           82
          ],
          [
           57.50542459,
           -3.070655631,
           "Other",
           "T10",
           59,
           82
          ],
          [
           57.51184311,
           -3.080658605,
           "Other",
           "T11",
           59,
           82
          ],
          [
           57.51081569,
           -3.073684523,
           "Other",
           "T12",
           59,
           82
          ],
          [
           57.51666161,
           -3.078146735,
           "Other",
           "T13",
           59,
           82
          ],
          [
           57.51376046,
           -3.074939555,
           "Other",
           "T14",
           59,
           82
          ],
          [
           57.49941809,
           -3.062837374,
           "Other",
           "T15",
           59,
           82
          ],
          [
           57.50513916,
           -3.053340822,
           "Other",
           "T16",
           59,
           82
          ],
          [
           57.50662266,
           -3.047792556,
           "Other",
           "T17",
           59,
           82
          ],
          [
           57.50429684,
           -3.041183981,
           "Other",
           "T18",
           59,
           82
          ],
          [
           57.50859585,
           -3.041656952,
           "Other",
           "T19",
           59,
           82
          ],
          [
           57.51202849,
           -3.040436127,
           "Other",
           "T20",
           59,
           82
          ],
          [
           57.50978499,
           -3.034697307,
           "Other",
           "T21",
           59,
           82
          ]
         ],
         "hovertemplate": "Turbine Name=%{customdata[3]}<br>Hub Height (m)=%{customdata[4]}<br>Rotor Diameter (m)=%{customdata[5]}<extra></extra>",
         "lat": {
          "bdata": "T2YwBAjATECmosqTmMBMQOZB1UMPwUxAdVLCwLHATEAEETUThMFMQLZqlWhiwUxAPAa39yHCTEDG1hrnwsFMQFfKle7sv0xAgBBmZqjATEBnDuYC2cBMQFmjgcyMwExAz1A3qxnBTEDLlUkmisFMQFYFcqJAwUxA",
          "dtype": "f8"
         },
         "legendgroup": "Other",
         "lon": {
          "bdata": "qhIoDBGSCMCidfl7zp4IwJi6juUbqQjAzmJD5rOQCMCI7bRWMKUIwAYNROnnlgjA1uk4ZQugCMDfNs/oeZkIwEZfkuGwgAjACkHw8z1tCMAWGUgQ4WEIwNkcXERYVAjAp+1zPVBVCMDRVRgt0FIIwByYtmEPRwjA",
          "dtype": "f8"
         },
         "marker": {
          "color": "#00cc96",
          "size": 10
         },
         "mode": "markers",
         "name": "Other",
         "showlegend": true,
         "subplot": "map",
         "type": "scattermap"
        }
       ],
       "layout": {
        "legend": {
         "orientation": "h",
         "title": {},
         "tracegroupgap": 0,
         "x": 1,
         "xanchor": "right",
         "y": 1.02,
         "yanchor": "bottom"
        },
        "map": {
         "center": {
          "lat": 57.505768197619034,
          "lon": -3.0683841857142857
         },
         "domain": {
          "x": [
           0,
           1
          ],
          "y": [
           0,
           1
          ]
         },
         "zoom": 12
        },
        "mapbox": {
         "center": {
          "lat": 57.505768197619034,
          "lon": -3.0683841857142857
         },
         "zoom": 12
        },
        "margin": {
         "t": 60
        },
        "template": {
         "data": {
          "bar": [
           {
            "error_x": {
             "color": "#f2f5fa"
            },
            "error_y": {
             "color": "#f2f5fa"
            },
            "marker": {
             "line": {
              "color": "rgb(17,17,17)",
              "width": 0.5
             },
             "pattern": {
              "fillmode": "overlay",
              "size": 10,
              "solidity": 0.2
             }
            },
            "type": "bar"
           }
          ],
          "barpolar": [
           {
            "marker": {
             "line": {
              "color": "rgb(17,17,17)",
              "width": 0.5
             },
             "pattern": {
              "fillmode": "overlay",
              "size": 10,
              "solidity": 0.2
             }
            },
            "type": "barpolar"
           }
          ],
          "carpet": [
           {
            "aaxis": {
             "endlinecolor": "#A2B1C6",
             "gridcolor": "#506784",
             "linecolor": "#506784",
             "minorgridcolor": "#506784",
             "startlinecolor": "#A2B1C6"
            },
            "baxis": {
             "endlinecolor": "#A2B1C6",
             "gridcolor": "#506784",
             "linecolor": "#506784",
             "minorgridcolor": "#506784",
             "startlinecolor": "#A2B1C6"
            },
            "type": "carpet"
           }
          ],
          "choropleth": [
           {
            "colorbar": {
             "outlinewidth": 0,
             "ticks": ""
            },
            "type": "choropleth"
           }
          ],
          "contour": [
           {
            "colorbar": {
             "outlinewidth": 0,
             "ticks": ""
            },
            "colorscale": [
             [
              0,
              "#0d0887"
             ],
             [
              0.1111111111111111,
              "#46039f"
             ],
             [
              0.2222222222222222,
              "#7201a8"
             ],
             [
              0.3333333333333333,
              "#9c179e"
             ],
             [
              0.4444444444444444,
              "#bd3786"
             ],
             [
              0.5555555555555556,
              "#d8576b"
             ],
             [
              0.6666666666666666,
              "#ed7953"
             ],
             [
              0.7777777777777778,
              "#fb9f3a"
             ],
             [
              0.8888888888888888,
              "#fdca26"
             ],
             [
              1,
              "#f0f921"
             ]
            ],
            "type": "contour"
           }
          ],
          "contourcarpet": [
           {
            "colorbar": {
             "outlinewidth": 0,
             "ticks": ""
            },
            "type": "contourcarpet"
           }
          ],
          "heatmap": [
           {
            "colorbar": {
             "outlinewidth": 0,
             "ticks": ""
            },
            "colorscale": [
             [
              0,
              "#0d0887"
             ],
             [
              0.1111111111111111,
              "#46039f"
             ],
             [
              0.2222222222222222,
              "#7201a8"
             ],
             [
              0.3333333333333333,
              "#9c179e"
             ],
             [
              0.4444444444444444,
              "#bd3786"
             ],
             [
              0.5555555555555556,
              "#d8576b"
             ],
             [
              0.6666666666666666,
              "#ed7953"
             ],
             [
              0.7777777777777778,
              "#fb9f3a"
             ],
             [
              0.8888888888888888,
              "#fdca26"
             ],
             [
              1,
              "#f0f921"
             ]
            ],
            "type": "heatmap"
           }
          ],
          "histogram": [
           {
            "marker": {
             "pattern": {
              "fillmode": "overlay",
              "size": 10,
              "solidity": 0.2
             }
            },
            "type": "histogram"
           }
          ],
          "histogram2d": [
           {
            "colorbar": {
             "outlinewidth": 0,
             "ticks": ""
            },
            "colorscale": [
             [
              0,
              "#0d0887"
             ],
             [
              0.1111111111111111,
              "#46039f"
             ],
             [
              0.2222222222222222,
              "#7201a8"
             ],
             [
              0.3333333333333333,
              "#9c179e"
             ],
             [
              0.4444444444444444,
              "#bd3786"
             ],
             [
              0.5555555555555556,
              "#d8576b"
             ],
             [
              0.6666666666666666,
              "#ed7953"
             ],
             [
              0.7777777777777778,
              "#fb9f3a"
             ],
             [
              0.8888888888888888,
              "#fdca26"
             ],
             [
              1,
              "#f0f921"
             ]
            ],
            "type": "histogram2d"
           }
          ],
          "histogram2dcontour": [
           {
            "colorbar": {
             "outlinewidth": 0,
             "ticks": ""
            },
            "colorscale": [
             [
              0,
              "#0d0887"
             ],
             [
              0.1111111111111111,
              "#46039f"
             ],
             [
              0.2222222222222222,
              "#7201a8"
             ],
             [
              0.3333333333333333,
              "#9c179e"
             ],
             [
              0.4444444444444444,
              "#bd3786"
             ],
             [
              0.5555555555555556,
              "#d8576b"
             ],
             [
              0.6666666666666666,
              "#ed7953"
             ],
             [
              0.7777777777777778,
              "#fb9f3a"
             ],
             [
              0.8888888888888888,
              "#fdca26"
             ],
             [
              1,
              "#f0f921"
             ]
            ],
            "type": "histogram2dcontour"
           }
          ],
          "mesh3d": [
           {
            "colorbar": {
             "outlinewidth": 0,
             "ticks": ""
            },
            "type": "mesh3d"
           }
          ],
          "parcoords": [
           {
            "line": {
             "colorbar": {
              "outlinewidth": 0,
              "ticks": ""
             }
            },
            "type": "parcoords"
           }
          ],
          "pie": [
           {
            "automargin": true,
            "type": "pie"
           }
          ],
          "scatter": [
           {
            "marker": {
             "line": {
              "color": "#283442"
             }
            },
            "type": "scatter"
           }
          ],
          "scatter3d": [
           {
            "line": {
             "colorbar": {
              "outlinewidth": 0,
              "ticks": ""
             }
            },
            "marker": {
             "colorbar": {
              "outlinewidth": 0,
              "ticks": ""
             }
            },
            "type": "scatter3d"
           }
          ],
          "scattercarpet": [
           {
            "marker": {
             "colorbar": {
              "outlinewidth": 0,
              "ticks": ""
             }
            },
            "type": "scattercarpet"
           }
          ],
          "scattergeo": [
           {
            "marker": {
             "colorbar": {
              "outlinewidth": 0,
              "ticks": ""
             }
            },
            "type": "scattergeo"
           }
          ],
          "scattergl": [
           {
            "marker": {
             "line": {
              "color": "#283442"
             }
            },
            "type": "scattergl"
           }
          ],
          "scattermap": [
           {
            "marker": {
             "colorbar": {
              "outlinewidth": 0,
              "ticks": ""
             }
            },
            "type": "scattermap"
           }
          ],
          "scattermapbox": [
           {
            "marker": {
             "colorbar": {
              "outlinewidth": 0,
              "ticks": ""
             }
            },
            "type": "scattermapbox"
           }
          ],
          "scatterpolar": [
           {
            "marker": {
             "colorbar": {
              "outlinewidth": 0,
              "ticks": ""
             }
            },
            "type": "scatterpolar"
           }
          ],
          "scatterpolargl": [
           {
            "marker": {
             "colorbar": {
              "outlinewidth": 0,
              "ticks": ""
             }
            },
            "type": "scatterpolargl"
           }
          ],
          "scatterternary": [
           {
            "marker": {
             "colorbar": {
              "outlinewidth": 0,
              "ticks": ""
             }
            },
            "type": "scatterternary"
           }
          ],
          "surface": [
           {
            "colorbar": {
             "outlinewidth": 0,
             "ticks": ""
            },
            "colorscale": [
             [
              0,
              "#0d0887"
             ],
             [
              0.1111111111111111,
              "#46039f"
             ],
             [
              0.2222222222222222,
              "#7201a8"
             ],
             [
              0.3333333333333333,
              "#9c179e"
             ],
             [
              0.4444444444444444,
              "#bd3786"
             ],
             [
              0.5555555555555556,
              "#d8576b"
             ],
             [
              0.6666666666666666,
              "#ed7953"
             ],
             [
              0.7777777777777778,
              "#fb9f3a"
             ],
             [
              0.8888888888888888,
              "#fdca26"
             ],
             [
              1,
              "#f0f921"
             ]
            ],
            "type": "surface"
           }
          ],
          "table": [
           {
            "cells": {
             "fill": {
              "color": "#506784"
             },
             "line": {
              "color": "rgb(17,17,17)"
             }
            },
            "header": {
             "fill": {
              "color": "#2a3f5f"
             },
             "line": {
              "color": "rgb(17,17,17)"
             }
            },
            "type": "table"
           }
          ]
         },
         "layout": {
          "annotationdefaults": {
           "arrowcolor": "#f2f5fa",
           "arrowhead": 0,
           "arrowwidth": 1
          },
          "autotypenumbers": "strict",
          "coloraxis": {
           "colorbar": {
            "outlinewidth": 0,
            "ticks": ""
           }
          },
          "colorscale": {
           "diverging": [
            [
             0,
             "#8e0152"
            ],
            [
             0.1,
             "#c51b7d"
            ],
            [
             0.2,
             "#de77ae"
            ],
            [
             0.3,
             "#f1b6da"
            ],
            [
             0.4,
             "#fde0ef"
            ],
            [
             0.5,
             "#f7f7f7"
            ],
            [
             0.6,
             "#e6f5d0"
            ],
            [
             0.7,
             "#b8e186"
            ],
            [
             0.8,
             "#7fbc41"
            ],
            [
             0.9,
             "#4d9221"
            ],
            [
             1,
             "#276419"
            ]
           ],
           "sequential": [
            [
             0,
             "#0d0887"
            ],
            [
             0.1111111111111111,
             "#46039f"
            ],
            [
             0.2222222222222222,
             "#7201a8"
            ],
            [
             0.3333333333333333,
             "#9c179e"
            ],
            [
             0.4444444444444444,
             "#bd3786"
            ],
            [
             0.5555555555555556,
             "#d8576b"
            ],
            [
             0.6666666666666666,
             "#ed7953"
            ],
            [
             0.7777777777777778,
             "#fb9f3a"
            ],
            [
             0.8888888888888888,
             "#fdca26"
            ],
            [
             1,
             "#f0f921"
            ]
           ],
           "sequentialminus": [
            [
             0,
             "#0d0887"
            ],
            [
             0.1111111111111111,
             "#46039f"
            ],
            [
             0.2222222222222222,
             "#7201a8"
            ],
            [
             0.3333333333333333,
             "#9c179e"
            ],
            [
             0.4444444444444444,
             "#bd3786"
            ],
            [
             0.5555555555555556,
             "#d8576b"
            ],
            [
             0.6666666666666666,
             "#ed7953"
            ],
            [
             0.7777777777777778,
             "#fb9f3a"
            ],
            [
             0.8888888888888888,
             "#fdca26"
            ],
            [
             1,
             "#f0f921"
            ]
           ]
          },
          "colorway": [
           "#636efa",
           "#EF553B",
           "#00cc96",
           "#ab63fa",
           "#FFA15A",
           "#19d3f3",
           "#FF6692",
           "#B6E880",
           "#FF97FF",
           "#FECB52"
          ],
          "font": {
           "color": "#f2f5fa"
          },
          "geo": {
           "bgcolor": "rgb(17,17,17)",
           "lakecolor": "rgb(17,17,17)",
           "landcolor": "rgb(17,17,17)",
           "showlakes": true,
           "showland": true,
           "subunitcolor": "#506784"
          },
          "hoverlabel": {
           "align": "left"
          },
          "hovermode": "closest",
          "mapbox": {
           "style": "dark"
          },
          "paper_bgcolor": "rgb(17,17,17)",
          "plot_bgcolor": "rgb(17,17,17)",
          "polar": {
           "angularaxis": {
            "gridcolor": "#506784",
            "linecolor": "#506784",
            "ticks": ""
           },
           "bgcolor": "rgb(17,17,17)",
           "radialaxis": {
            "gridcolor": "#506784",
            "linecolor": "#506784",
            "ticks": ""
           }
          },
          "scene": {
           "xaxis": {
            "backgroundcolor": "rgb(17,17,17)",
            "gridcolor": "#506784",
            "gridwidth": 2,
            "linecolor": "#506784",
            "showbackground": true,
            "ticks": "",
            "zerolinecolor": "#C8D4E3"
           },
           "yaxis": {
            "backgroundcolor": "rgb(17,17,17)",
            "gridcolor": "#506784",
            "gridwidth": 2,
            "linecolor": "#506784",
            "showbackground": true,
            "ticks": "",
            "zerolinecolor": "#C8D4E3"
           },
           "zaxis": {
            "backgroundcolor": "rgb(17,17,17)",
            "gridcolor": "#506784",
            "gridwidth": 2,
            "linecolor": "#506784",
            "showbackground": true,
            "ticks": "",
            "zerolinecolor": "#C8D4E3"
           }
          },
          "shapedefaults": {
           "line": {
            "color": "#f2f5fa"
           }
          },
          "sliderdefaults": {
           "bgcolor": "#C8D4E3",
           "bordercolor": "rgb(17,17,17)",
           "borderwidth": 1,
           "tickwidth": 0
          },
          "ternary": {
           "aaxis": {
            "gridcolor": "#506784",
            "linecolor": "#506784",
            "ticks": ""
           },
           "baxis": {
            "gridcolor": "#506784",
            "linecolor": "#506784",
            "ticks": ""
           },
           "bgcolor": "rgb(17,17,17)",
           "caxis": {
            "gridcolor": "#506784",
            "linecolor": "#506784",
            "ticks": ""
           }
          },
          "title": {
           "x": 0.05
          },
          "updatemenudefaults": {
           "bgcolor": "#506784",
           "borderwidth": 0
          },
          "xaxis": {
           "automargin": true,
           "gridcolor": "#283442",
           "linecolor": "#506784",
           "ticks": "",
           "title": {
            "standoff": 15
           },
           "zerolinecolor": "#283442",
           "zerolinewidth": 2
          },
          "yaxis": {
           "automargin": true,
           "gridcolor": "#283442",
           "linecolor": "#506784",
           "ticks": "",
           "title": {
            "standoff": 15
           },
           "zerolinecolor": "#283442",
           "zerolinewidth": 2
          }
         }
        },
        "width": 600
       }
      }
     },
     "metadata": {},
     "output_type": "display_data"
    },
    {
     "data": {
      "application/vnd.plotly.v1+json": {
       "config": {
        "plotlyServerURL": "https://plot.ly"
       },
       "data": [
        {
         "hovertemplate": "Wind Speed (m/s)=0-2<br>Frequency=%{r}<br>Wind Direction=%{theta}<extra></extra>",
         "legendgroup": "0-2",
         "marker": {
          "color": "#fdca26",
          "pattern": {
           "shape": ""
          }
         },
         "name": "0-2",
         "r": {
          "bdata": "ZKJnuTG+0z/lrcy7euDeP4gEA6kDFNw/56eQQunP3T8ylBRrVFDaP3JxYQ/yO90/PwbLFORh3D8wQ0mxRgXVPzKUFGtUUNo/Fl/cXSfi4D/t4GsXsdjeP5j+5wTU7uE//Eaqzh3J3j+dr5QnWy7fP+/Ot6v8pts/ZAXn3vM63D8=",
          "dtype": "f8"
         },
         "showlegend": true,
         "subplot": "polar",
         "theta": [
          "N",
          "NNE",
          "NE",
          "ENE",
          "E",
          "ESE",
          "SE",
          "SSE",
          "S",
          "SSW",
          "SW",
          "WSW",
          "W",
          "WNW",
          "NW",
          "NNW"
         ],
         "type": "barpolar"
        },
        {
         "hovertemplate": "Wind Speed (m/s)=2-4<br>Frequency=%{r}<br>Wind Direction=%{theta}<extra></extra>",
         "legendgroup": "2-4",
         "marker": {
          "color": "#fb9f3a",
          "pattern": {
           "shape": ""
          }
         },
         "name": "2-4",
         "r": {
          "bdata": "5562DA837D8dj938FFLwPwUItFUmm/M//Toy3Pqn7D98L83ZsYXxP7/0KZkJL/A/otgd32xI9D/LHI1wZ0v3P8rSOZ41Vvw/6dokV1QkAEAvpsjWCIL9P6qqqqqqqgBAfoM2UAhZ9z/VPXhg6RH0P7Q/mAQkfu0/zsCFMoEk6T8=",
          "dtype": "f8"
         },
         "showlegend": true,
         "subplot": "polar",
         "theta": [
          "N",
          "NNE",
          "NE",
          "ENE",
          "E",
          "ESE",
          "SE",
          "SSE",
          "S",
          "SSW",
          "SW",
          "WSW",
          "W",
          "WNW",
          "NW",
          "NNW"
         ],
         "type": "barpolar"
        },
        {
         "hovertemplate": "Wind Speed (m/s)=4-6<br>Frequency=%{r}<br>Wind Direction=%{theta}<extra></extra>",
         "legendgroup": "4-6",
         "marker": {
          "color": "#ed7953",
          "pattern": {
           "shape": ""
          }
         },
         "name": "4-6",
         "r": {
          "bdata": "1+FwIgPr5T+10z6ph2jjP7bNAjD2V+I/ZZwrQKCt4j8gQyjc5BnuP0aPNTVvcPk/oUR3Ogle/j8L7PSMGC8DQNSTQyU+KAFAgcxY+7qsBkA4ze8/HFkLQLNCNsFsBg5Aql25GzAtBUAHDyw9AvH9P8XjsZufQvY/9vSipsU48D8=",
          "dtype": "f8"
         },
         "showlegend": true,
         "subplot": "polar",
         "theta": [
          "N",
          "NNE",
          "NE",
          "ENE",
          "E",
          "ESE",
          "SE",
          "SSE",
          "S",
          "SSW",
          "SW",
          "WSW",
          "W",
          "WNW",
          "NW",
          "NNW"
         ],
         "type": "barpolar"
        },
        {
         "hovertemplate": "Wind Speed (m/s)=6-8<br>Frequency=%{r}<br>Wind Direction=%{theta}<extra></extra>",
         "legendgroup": "6-8",
         "marker": {
          "color": "#d8576b",
          "pattern": {
           "shape": ""
          }
         },
         "name": "6-8",
         "r": {
          "bdata": "5PNFYxkI4D9uJtLOdQHZP2G0GyXm79Y/cwJq9wye0j9hsX1onWfmPxGApnhHveY/l7rQqzMK+D9c2IP8TlP9P3nx8fmisfg/wqh0eNn2/T9IgB+GA8cGQN9eY1Br2BBAAM6nWd/wBkCx44V/crMBQDxbWmvuMvA/3261bSHH7D8=",
          "dtype": "f8"
         },
         "showlegend": true,
         "subplot": "polar",
         "theta": [
          "N",
          "NNE",
          "NE",
          "ENE",
          "E",
          "ESE",
          "SE",
          "SSE",
          "S",
          "SSW",
          "SW",
          "WSW",
          "W",
          "WNW",
          "NW",
          "NNW"
         ],
         "type": "barpolar"
        },
        {
         "hovertemplate": "Wind Speed (m/s)=8-10<br>Frequency=%{r}<br>Wind Direction=%{theta}<extra></extra>",
         "legendgroup": "8-10",
         "marker": {
          "color": "#bd3786",
          "pattern": {
           "shape": ""
          }
         },
         "name": "8-10",
         "r": {
          "bdata": "ksiq7FRu0T+eQJ0PdpDEPwf/2R9MArI/SiF6i9QXyD9yDuLpL7/UP/Swi00lVMY/zsCFMoEk6T+EX854n/XwP41GuLOlte4/jELeiBLo9D+GZkZge0v7P3js5qeQQgNAkS7Izl9z+j/fd4+j+1/uP6+UJ1suT+E/Dyw9AvHp4D8=",
          "dtype": "f8"
         },
         "showlegend": true,
         "subplot": "polar",
         "theta": [
          "N",
          "NNE",
          "NE",
          "ENE",
          "E",
          "ESE",
          "SE",
          "SSE",
          "S",
          "SSW",
          "SW",
          "WSW",
          "W",
          "WNW",
          "NW",
          "NNW"
         ],
         "type": "barpolar"
        },
        {
         "hovertemplate": "Wind Speed (m/s)=10-12<br>Frequency=%{r}<br>Wind Direction=%{theta}<extra></extra>",
         "legendgroup": "10-12",
         "marker": {
          "color": "#9c179e",
          "pattern": {
           "shape": ""
          }
         },
         "name": "10-12",
         "r": {
          "bdata": "7tTzJI63vD9gwJMXCRGpP6PiM4ORJj8/8l/AkxcJoT8HXB3MfG7JPyxhdQ8eWMo/F7wfClhO2D/sfezx7lvWP/06Mtz6p9w/lRbY6Rkx5j8fRsaYLaLuP3yPrkIreuk//jT2YmmX2z8VZRjXuPLBP+EF+s7NOcM/",
          "dtype": "f8"
         },
         "showlegend": true,
         "subplot": "polar",
         "theta": [
          "N",
          "NNE",
          "ENE",
          "E",
          "ESE",
          "SE",
          "SSE",
          "S",
          "SSW",
          "SW",
          "WSW",
          "W",
          "WNW",
          "NW",
          "NNW"
         ],
         "type": "barpolar"
        },
        {
         "hovertemplate": "Wind Speed (m/s)=12-14<br>Frequency=%{r}<br>Wind Direction=%{theta}<extra></extra>",
         "legendgroup": "12-14",
         "marker": {
          "color": "#7201a8",
          "pattern": {
           "shape": ""
          }
         },
         "name": "12-14",
         "r": {
          "bdata": "1JNDJT4osT/Y2JbsKFK0P1NO3W15/7Y/iaGDg0GXsz9wGlrcUuC2P7fHxrZkR8E/CVbhUutd2D99KZFgIHXQP+ZKTZa4Y7Y/SiF6i9QXuD9Bl9P8/sOhPw==",
          "dtype": "f8"
         },
         "showlegend": true,
         "subplot": "polar",
         "theta": [
          "ESE",
          "SE",
          "SSE",
          "S",
          "SSW",
          "SW",
          "WSW",
          "W",
          "WNW",
          "NW",
          "NNW"
         ],
         "type": "barpolar"
        },
        {
         "hovertemplate": "Wind Speed (m/s)=14-16<br>Frequency=%{r}<br>Wind Direction=%{theta}<extra></extra>",
         "legendgroup": "14-16",
         "marker": {
          "color": "#46039f",
          "pattern": {
           "shape": ""
          }
         },
         "name": "14-16",
         "r": {
          "bdata": "o+Izg5Emjz+mbQDyGnhzP6ZtAPIaeHM/JSiaOlZPmT82gmD/nx6nPyz4uXDKyrA/C0Qt5zYspT+mbQDyGnijP3wvzdmxhYE/Z5CzTX2MgD8=",
          "dtype": "f8"
         },
         "showlegend": true,
         "subplot": "polar",
         "theta": [
          "SE",
          "SSE",
          "S",
          "SSW",
          "SW",
          "WSW",
          "W",
          "WNW",
          "NW",
          "NNW"
         ],
         "type": "barpolar"
        },
        {
         "hovertemplate": "Wind Speed (m/s)=16+<br>Frequency=%{r}<br>Wind Direction=%{theta}<extra></extra>",
         "legendgroup": "16+",
         "marker": {
          "color": "#0d0887",
          "pattern": {
           "shape": ""
          }
         },
         "name": "16+",
         "r": {
          "bdata": "o+Izg5EmXz95pABrKDSNP5HO5mXmfqI/8l/AkxcJkT8=",
          "dtype": "f8"
         },
         "showlegend": true,
         "subplot": "polar",
         "theta": [
          "SSW",
          "SW",
          "WSW",
          "W"
         ],
         "type": "barpolar"
        }
       ],
       "layout": {
        "barmode": "relative",
        "legend": {
         "title": {
          "text": "Wind Speed (m/s)"
         },
         "tracegroupgap": 0
        },
        "margin": {
         "t": 60
        },
        "polar": {
         "angularaxis": {
          "direction": "clockwise",
          "rotation": 90
         },
         "domain": {
          "x": [
           0,
           1
          ],
          "y": [
           0,
           1
          ]
         }
        },
        "template": {
         "data": {
          "bar": [
           {
            "error_x": {
             "color": "#f2f5fa"
            },
            "error_y": {
             "color": "#f2f5fa"
            },
            "marker": {
             "line": {
              "color": "rgb(17,17,17)",
              "width": 0.5
             },
             "pattern": {
              "fillmode": "overlay",
              "size": 10,
              "solidity": 0.2
             }
            },
            "type": "bar"
           }
          ],
          "barpolar": [
           {
            "marker": {
             "line": {
              "color": "rgb(17,17,17)",
              "width": 0.5
             },
             "pattern": {
              "fillmode": "overlay",
              "size": 10,
              "solidity": 0.2
             }
            },
            "type": "barpolar"
           }
          ],
          "carpet": [
           {
            "aaxis": {
             "endlinecolor": "#A2B1C6",
             "gridcolor": "#506784",
             "linecolor": "#506784",
             "minorgridcolor": "#506784",
             "startlinecolor": "#A2B1C6"
            },
            "baxis": {
             "endlinecolor": "#A2B1C6",
             "gridcolor": "#506784",
             "linecolor": "#506784",
             "minorgridcolor": "#506784",
             "startlinecolor": "#A2B1C6"
            },
            "type": "carpet"
           }
          ],
          "choropleth": [
           {
            "colorbar": {
             "outlinewidth": 0,
             "ticks": ""
            },
            "type": "choropleth"
           }
          ],
          "contour": [
           {
            "colorbar": {
             "outlinewidth": 0,
             "ticks": ""
            },
            "colorscale": [
             [
              0,
              "#0d0887"
             ],
             [
              0.1111111111111111,
              "#46039f"
             ],
             [
              0.2222222222222222,
              "#7201a8"
             ],
             [
              0.3333333333333333,
              "#9c179e"
             ],
             [
              0.4444444444444444,
              "#bd3786"
             ],
             [
              0.5555555555555556,
              "#d8576b"
             ],
             [
              0.6666666666666666,
              "#ed7953"
             ],
             [
              0.7777777777777778,
              "#fb9f3a"
             ],
             [
              0.8888888888888888,
              "#fdca26"
             ],
             [
              1,
              "#f0f921"
             ]
            ],
            "type": "contour"
           }
          ],
          "contourcarpet": [
           {
            "colorbar": {
             "outlinewidth": 0,
             "ticks": ""
            },
            "type": "contourcarpet"
           }
          ],
          "heatmap": [
           {
            "colorbar": {
             "outlinewidth": 0,
             "ticks": ""
            },
            "colorscale": [
             [
              0,
              "#0d0887"
             ],
             [
              0.1111111111111111,
              "#46039f"
             ],
             [
              0.2222222222222222,
              "#7201a8"
             ],
             [
              0.3333333333333333,
              "#9c179e"
             ],
             [
              0.4444444444444444,
              "#bd3786"
             ],
             [
              0.5555555555555556,
              "#d8576b"
             ],
             [
              0.6666666666666666,
              "#ed7953"
             ],
             [
              0.7777777777777778,
              "#fb9f3a"
             ],
             [
              0.8888888888888888,
              "#fdca26"
             ],
             [
              1,
              "#f0f921"
             ]
            ],
            "type": "heatmap"
           }
          ],
          "histogram": [
           {
            "marker": {
             "pattern": {
              "fillmode": "overlay",
              "size": 10,
              "solidity": 0.2
             }
            },
            "type": "histogram"
           }
          ],
          "histogram2d": [
           {
            "colorbar": {
             "outlinewidth": 0,
             "ticks": ""
            },
            "colorscale": [
             [
              0,
              "#0d0887"
             ],
             [
              0.1111111111111111,
              "#46039f"
             ],
             [
              0.2222222222222222,
              "#7201a8"
             ],
             [
              0.3333333333333333,
              "#9c179e"
             ],
             [
              0.4444444444444444,
              "#bd3786"
             ],
             [
              0.5555555555555556,
              "#d8576b"
             ],
             [
              0.6666666666666666,
              "#ed7953"
             ],
             [
              0.7777777777777778,
              "#fb9f3a"
             ],
             [
              0.8888888888888888,
              "#fdca26"
             ],
             [
              1,
              "#f0f921"
             ]
            ],
            "type": "histogram2d"
           }
          ],
          "histogram2dcontour": [
           {
            "colorbar": {
             "outlinewidth": 0,
             "ticks": ""
            },
            "colorscale": [
             [
              0,
              "#0d0887"
             ],
             [
              0.1111111111111111,
              "#46039f"
             ],
             [
              0.2222222222222222,
              "#7201a8"
             ],
             [
              0.3333333333333333,
              "#9c179e"
             ],
             [
              0.4444444444444444,
              "#bd3786"
             ],
             [
              0.5555555555555556,
              "#d8576b"
             ],
             [
              0.6666666666666666,
              "#ed7953"
             ],
             [
              0.7777777777777778,
              "#fb9f3a"
             ],
             [
              0.8888888888888888,
              "#fdca26"
             ],
             [
              1,
              "#f0f921"
             ]
            ],
            "type": "histogram2dcontour"
           }
          ],
          "mesh3d": [
           {
            "colorbar": {
             "outlinewidth": 0,
             "ticks": ""
            },
            "type": "mesh3d"
           }
          ],
          "parcoords": [
           {
            "line": {
             "colorbar": {
              "outlinewidth": 0,
              "ticks": ""
             }
            },
            "type": "parcoords"
           }
          ],
          "pie": [
           {
            "automargin": true,
            "type": "pie"
           }
          ],
          "scatter": [
           {
            "marker": {
             "line": {
              "color": "#283442"
             }
            },
            "type": "scatter"
           }
          ],
          "scatter3d": [
           {
            "line": {
             "colorbar": {
              "outlinewidth": 0,
              "ticks": ""
             }
            },
            "marker": {
             "colorbar": {
              "outlinewidth": 0,
              "ticks": ""
             }
            },
            "type": "scatter3d"
           }
          ],
          "scattercarpet": [
           {
            "marker": {
             "colorbar": {
              "outlinewidth": 0,
              "ticks": ""
             }
            },
            "type": "scattercarpet"
           }
          ],
          "scattergeo": [
           {
            "marker": {
             "colorbar": {
              "outlinewidth": 0,
              "ticks": ""
             }
            },
            "type": "scattergeo"
           }
          ],
          "scattergl": [
           {
            "marker": {
             "line": {
              "color": "#283442"
             }
            },
            "type": "scattergl"
           }
          ],
          "scattermap": [
           {
            "marker": {
             "colorbar": {
              "outlinewidth": 0,
              "ticks": ""
             }
            },
            "type": "scattermap"
           }
          ],
          "scattermapbox": [
           {
            "marker": {
             "colorbar": {
              "outlinewidth": 0,
              "ticks": ""
             }
            },
            "type": "scattermapbox"
           }
          ],
          "scatterpolar": [
           {
            "marker": {
             "colorbar": {
              "outlinewidth": 0,
              "ticks": ""
             }
            },
            "type": "scatterpolar"
           }
          ],
          "scatterpolargl": [
           {
            "marker": {
             "colorbar": {
              "outlinewidth": 0,
              "ticks": ""
             }
            },
            "type": "scatterpolargl"
           }
          ],
          "scatterternary": [
           {
            "marker": {
             "colorbar": {
              "outlinewidth": 0,
              "ticks": ""
             }
            },
            "type": "scatterternary"
           }
          ],
          "surface": [
           {
            "colorbar": {
             "outlinewidth": 0,
             "ticks": ""
            },
            "colorscale": [
             [
              0,
              "#0d0887"
             ],
             [
              0.1111111111111111,
              "#46039f"
             ],
             [
              0.2222222222222222,
              "#7201a8"
             ],
             [
              0.3333333333333333,
              "#9c179e"
             ],
             [
              0.4444444444444444,
              "#bd3786"
             ],
             [
              0.5555555555555556,
              "#d8576b"
             ],
             [
              0.6666666666666666,
              "#ed7953"
             ],
             [
              0.7777777777777778,
              "#fb9f3a"
             ],
             [
              0.8888888888888888,
              "#fdca26"
             ],
             [
              1,
              "#f0f921"
             ]
            ],
            "type": "surface"
           }
          ],
          "table": [
           {
            "cells": {
             "fill": {
              "color": "#506784"
             },
             "line": {
              "color": "rgb(17,17,17)"
             }
            },
            "header": {
             "fill": {
              "color": "#2a3f5f"
             },
             "line": {
              "color": "rgb(17,17,17)"
             }
            },
            "type": "table"
           }
          ]
         },
         "layout": {
          "annotationdefaults": {
           "arrowcolor": "#f2f5fa",
           "arrowhead": 0,
           "arrowwidth": 1
          },
          "autotypenumbers": "strict",
          "coloraxis": {
           "colorbar": {
            "outlinewidth": 0,
            "ticks": ""
           }
          },
          "colorscale": {
           "diverging": [
            [
             0,
             "#8e0152"
            ],
            [
             0.1,
             "#c51b7d"
            ],
            [
             0.2,
             "#de77ae"
            ],
            [
             0.3,
             "#f1b6da"
            ],
            [
             0.4,
             "#fde0ef"
            ],
            [
             0.5,
             "#f7f7f7"
            ],
            [
             0.6,
             "#e6f5d0"
            ],
            [
             0.7,
             "#b8e186"
            ],
            [
             0.8,
             "#7fbc41"
            ],
            [
             0.9,
             "#4d9221"
            ],
            [
             1,
             "#276419"
            ]
           ],
           "sequential": [
            [
             0,
             "#0d0887"
            ],
            [
             0.1111111111111111,
             "#46039f"
            ],
            [
             0.2222222222222222,
             "#7201a8"
            ],
            [
             0.3333333333333333,
             "#9c179e"
            ],
            [
             0.4444444444444444,
             "#bd3786"
            ],
            [
             0.5555555555555556,
             "#d8576b"
            ],
            [
             0.6666666666666666,
             "#ed7953"
            ],
            [
             0.7777777777777778,
             "#fb9f3a"
            ],
            [
             0.8888888888888888,
             "#fdca26"
            ],
            [
             1,
             "#f0f921"
            ]
           ],
           "sequentialminus": [
            [
             0,
             "#0d0887"
            ],
            [
             0.1111111111111111,
             "#46039f"
            ],
            [
             0.2222222222222222,
             "#7201a8"
            ],
            [
             0.3333333333333333,
             "#9c179e"
            ],
            [
             0.4444444444444444,
             "#bd3786"
            ],
            [
             0.5555555555555556,
             "#d8576b"
            ],
            [
             0.6666666666666666,
             "#ed7953"
            ],
            [
             0.7777777777777778,
             "#fb9f3a"
            ],
            [
             0.8888888888888888,
             "#fdca26"
            ],
            [
             1,
             "#f0f921"
            ]
           ]
          },
          "colorway": [
           "#636efa",
           "#EF553B",
           "#00cc96",
           "#ab63fa",
           "#FFA15A",
           "#19d3f3",
           "#FF6692",
           "#B6E880",
           "#FF97FF",
           "#FECB52"
          ],
          "font": {
           "color": "#f2f5fa"
          },
          "geo": {
           "bgcolor": "rgb(17,17,17)",
           "lakecolor": "rgb(17,17,17)",
           "landcolor": "rgb(17,17,17)",
           "showlakes": true,
           "showland": true,
           "subunitcolor": "#506784"
          },
          "hoverlabel": {
           "align": "left"
          },
          "hovermode": "closest",
          "mapbox": {
           "style": "dark"
          },
          "paper_bgcolor": "rgb(17,17,17)",
          "plot_bgcolor": "rgb(17,17,17)",
          "polar": {
           "angularaxis": {
            "gridcolor": "#506784",
            "linecolor": "#506784",
            "ticks": ""
           },
           "bgcolor": "rgb(17,17,17)",
           "radialaxis": {
            "gridcolor": "#506784",
            "linecolor": "#506784",
            "ticks": ""
           }
          },
          "scene": {
           "xaxis": {
            "backgroundcolor": "rgb(17,17,17)",
            "gridcolor": "#506784",
            "gridwidth": 2,
            "linecolor": "#506784",
            "showbackground": true,
            "ticks": "",
            "zerolinecolor": "#C8D4E3"
           },
           "yaxis": {
            "backgroundcolor": "rgb(17,17,17)",
            "gridcolor": "#506784",
            "gridwidth": 2,
            "linecolor": "#506784",
            "showbackground": true,
            "ticks": "",
            "zerolinecolor": "#C8D4E3"
           },
           "zaxis": {
            "backgroundcolor": "rgb(17,17,17)",
            "gridcolor": "#506784",
            "gridwidth": 2,
            "linecolor": "#506784",
            "showbackground": true,
            "ticks": "",
            "zerolinecolor": "#C8D4E3"
           }
          },
          "shapedefaults": {
           "line": {
            "color": "#f2f5fa"
           }
          },
          "sliderdefaults": {
           "bgcolor": "#C8D4E3",
           "bordercolor": "rgb(17,17,17)",
           "borderwidth": 1,
           "tickwidth": 0
          },
          "ternary": {
           "aaxis": {
            "gridcolor": "#506784",
            "linecolor": "#506784",
            "ticks": ""
           },
           "baxis": {
            "gridcolor": "#506784",
            "linecolor": "#506784",
            "ticks": ""
           },
           "bgcolor": "rgb(17,17,17)",
           "caxis": {
            "gridcolor": "#506784",
            "linecolor": "#506784",
            "ticks": ""
           }
          },
          "title": {
           "x": 0.05
          },
          "updatemenudefaults": {
           "bgcolor": "#506784",
           "borderwidth": 0
          },
          "xaxis": {
           "automargin": true,
           "gridcolor": "#283442",
           "linecolor": "#506784",
           "ticks": "",
           "title": {
            "standoff": 15
           },
           "zerolinecolor": "#283442",
           "zerolinewidth": 2
          },
          "yaxis": {
           "automargin": true,
           "gridcolor": "#283442",
           "linecolor": "#506784",
           "ticks": "",
           "title": {
            "standoff": 15
           },
           "zerolinecolor": "#283442",
           "zerolinewidth": 2
          }
         }
        },
        "width": 600
       }
      }
     },
     "metadata": {},
     "output_type": "display_data"
    }
   ],
   "source": [
    "plot_turbine_map(target=1).show()\n",
    "plot_wind_rose(height=59).show()"
   ]
  }
 ],
 "metadata": {
  "kernelspec": {
   "display_name": ".venv",
   "language": "python",
   "name": "python3"
  },
  "language_info": {
   "codemirror_mode": {
    "name": "ipython",
    "version": 3
   },
   "file_extension": ".py",
   "mimetype": "text/x-python",
   "name": "python",
   "nbconvert_exporter": "python",
   "pygments_lexer": "ipython3",
   "version": "3.12.7"
  }
 },
 "nbformat": 4,
 "nbformat_minor": 5
}
