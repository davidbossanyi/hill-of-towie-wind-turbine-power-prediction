{
 "cells": [
  {
   "cell_type": "code",
   "execution_count": null,
   "id": "980fc3aa",
   "metadata": {},
   "outputs": [],
   "source": [
    "import datetime as dt\n",
    "\n",
    "import polars as pl\n",
    "\n",
    "from wtg_power_prediction.dataset import load_submission_dataset, load_training_dataset, load_turbine_metadata\n",
    "from wtg_power_prediction.model import WtgPowerPredictionModel\n",
    "\n",
    "df_train = load_training_dataset().collect()\n",
    "\n",
    "X_train = df_train.select(pl.exclude(\"target\"))\n",
    "y_train = df_train.select(\"target\").to_series()\n",
    "\n",
    "X_test = load_submission_dataset().collect()\n",
    "\n",
    "wf_lat_lon = load_turbine_metadata().select(pl.col(\"Latitude\").mean(), pl.col(\"Longitude\").mean()).collect()\n",
    "\n",
    "model = WtgPowerPredictionModel(\n",
    "    latitude=wf_lat_lon.select(\"Latitude\").item(),\n",
    "    longitude=wf_lat_lon.select(\"Longitude\").item(),\n",
    "    validation_start=dt.datetime(2019, 1, 1, tzinfo=dt.UTC),  # reserve the last year of data for validation\n",
    "    time_budget_engineering_s=5 * 60,\n",
    "    time_budget_power_s=5 * 60,\n",
    ")\n",
    "\n",
    "model.fit(X_train, y_train)"
   ]
  },
  {
   "cell_type": "code",
   "execution_count": null,
   "id": "29fead23",
   "metadata": {},
   "outputs": [],
   "source": [
    "model.models[\"wind_speed\"].fig_corr"
   ]
  },
  {
   "cell_type": "code",
   "execution_count": null,
   "id": "4f77e357",
   "metadata": {},
   "outputs": [],
   "source": [
    "model.models[\"wind_speed\"].fig_fi"
   ]
  },
  {
   "cell_type": "code",
   "execution_count": null,
   "id": "2b6534a9",
   "metadata": {},
   "outputs": [],
   "source": [
    "model.models[\"wind_speed\"].automl.best_config"
   ]
  },
  {
   "cell_type": "code",
   "execution_count": null,
   "id": "5bf72d20",
   "metadata": {},
   "outputs": [],
   "source": [
    "model.models[\"power\"].fig_corr"
   ]
  },
  {
   "cell_type": "code",
   "execution_count": null,
   "id": "379ad38a",
   "metadata": {},
   "outputs": [],
   "source": [
    "model.models[\"power\"].fig_fi"
   ]
  },
  {
   "cell_type": "code",
   "execution_count": null,
   "id": "54d028e2",
   "metadata": {},
   "outputs": [],
   "source": [
    "model.models[\"power\"].automl.best_config"
   ]
  },
  {
   "cell_type": "code",
   "execution_count": null,
   "id": "a5e55842",
   "metadata": {},
   "outputs": [],
   "source": [
    "prediction = model.predict(X_test)\n",
    "submission = X_test.with_columns(prediction=prediction).select(\"id\", \"prediction\")\n",
    "submission.write_csv(\"submission.csv\", include_header=True)"
   ]
  }
 ],
 "metadata": {
  "kernelspec": {
   "display_name": ".venv",
   "language": "python",
   "name": "python3"
  },
  "language_info": {
   "codemirror_mode": {
    "name": "ipython",
    "version": 3
   },
   "file_extension": ".py",
   "mimetype": "text/x-python",
   "name": "python",
   "nbconvert_exporter": "python",
   "pygments_lexer": "ipython3",
   "version": "3.12.7"
  }
 },
 "nbformat": 4,
 "nbformat_minor": 5
}
